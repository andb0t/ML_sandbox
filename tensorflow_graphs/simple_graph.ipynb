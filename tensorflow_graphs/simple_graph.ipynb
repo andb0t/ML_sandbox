{
 "cells": [
  {
   "cell_type": "code",
   "execution_count": null,
   "metadata": {},
   "outputs": [],
   "source": [
    "import tensorflow as tf"
   ]
  },
  {
   "cell_type": "code",
   "execution_count": null,
   "metadata": {},
   "outputs": [],
   "source": [
    "# Graph construction\n",
    "tf.reset_default_graph()  # reset tf graph to start fresh\n",
    "x = tf.Variable(3, name='x')\n",
    "y = tf.Variable(4, name='y')\n",
    "f = x * x * y + y + 2"
   ]
  },
  {
   "cell_type": "code",
   "execution_count": null,
   "metadata": {},
   "outputs": [],
   "source": [
    "# Graph execution\n",
    "explicitness = 2\n",
    "\n",
    "if explicitness == 0:\n",
    "    sess = tf.Session()\n",
    "    sess.run(x.initializer)\n",
    "    sess.run(y.initializer)\n",
    "    result = sess.run(f)\n",
    "    sess.close()\n",
    "    \n",
    "elif explicitness == 1:\n",
    "    with tf.Session() as sess:\n",
    "        x.initializer.run()\n",
    "        y.initializer.run()\n",
    "        result = f.eval()\n",
    "        \n",
    "elif explicitness == 2:\n",
    "    init = tf.global_variables_initializer()  # prepare an init node\n",
    "    with tf.Session() as sess:\n",
    "        init.run()  # actually initialize all the variables\n",
    "        result = f.eval()\n",
    "\n",
    "print('This is the result:', result)"
   ]
  }
 ],
 "metadata": {
  "kernelspec": {
   "display_name": "Python 3",
   "language": "python",
   "name": "python3"
  },
  "language_info": {
   "codemirror_mode": {
    "name": "ipython",
    "version": 3
   },
   "file_extension": ".py",
   "mimetype": "text/x-python",
   "name": "python",
   "nbconvert_exporter": "python",
   "pygments_lexer": "ipython3",
   "version": "3.5.2"
  }
 },
 "nbformat": 4,
 "nbformat_minor": 2
}
